{
  "nbformat": 4,
  "nbformat_minor": 0,
  "metadata": {
    "colab": {
      "name": "Predictions.ipynb",
      "provenance": []
    },
    "kernelspec": {
      "name": "python3",
      "display_name": "Python 3"
    },
    "language_info": {
      "name": "python"
    }
  },
  "cells": [
    {
      "cell_type": "code",
      "metadata": {
        "id": "EXQE0-MJiX_V"
      },
      "source": [
        "from tensorflow.keras.models import load_model\n",
        "import numpy as np\n",
        "import pickle"
      ],
      "execution_count": 1,
      "outputs": []
    },
    {
      "cell_type": "code",
      "metadata": {
        "id": "_NCpH6XzjPI4"
      },
      "source": [
        "model = load_model('/content/drive/MyDrive/nextword1.h5')\n",
        "tokenizer = pickle.load(open('/content/drive/MyDrive/tokenizer1.pkl', 'rb'))"
      ],
      "execution_count": 6,
      "outputs": []
    },
    {
      "cell_type": "code",
      "metadata": {
        "id": "8QRQn6Mcjbqh"
      },
      "source": [
        "def auto_predictions(model, tokenizer, text):\n",
        "    for i in range(3):\n",
        "        sequence = tokenizer.texts_to_sequences([text])[0]\n",
        "        sequence = np.array(sequence)\n",
        "        preds = model.predict(sequence)\n",
        "        preds=np.argmax(preds)\n",
        "        \n",
        "        predicted_word = \"\"\n",
        "        \n",
        "        for key, value in tokenizer.word_index.items():\n",
        "            if value == preds:\n",
        "                predicted_word = key\n",
        "                break\n",
        "        print(predicted_word)\n",
        "        return predicted_word"
      ],
      "execution_count": 30,
      "outputs": []
    },
    {
      "cell_type": "code",
      "metadata": {
        "colab": {
          "base_uri": "https://localhost:8080/"
        },
        "id": "VGbCJ0kkjkEp",
        "outputId": "e944e106-27da-49f8-eec4-00641db1ffad"
      },
      "source": [
        "while(True):\n",
        "    text = input(\"Enter Input : \")\n",
        "    \n",
        "    if text == \"stop predictions\":\n",
        "        print(\"Program End\")\n",
        "        break\n",
        "    \n",
        "    else:\n",
        "      try:\n",
        "          text = text.split(\" \")\n",
        "          text = text[-1]\n",
        "          text = ''.join(text)\n",
        "          auto_predictions(model, tokenizer, text)\n",
        "      except:\n",
        "        continue\n",
        "          "
      ],
      "execution_count": 44,
      "outputs": [
        {
          "output_type": "stream",
          "name": "stdout",
          "text": [
            "Enter Input : what a strenuous\n",
            "career\n",
            "Enter Input : collection of textile\n",
            "samples\n",
            "Enter Input : at the dull\n",
            "weather\n",
            "Enter Input : stop predictions\n",
            "Program End\n"
          ]
        }
      ]
    }
  ]
}