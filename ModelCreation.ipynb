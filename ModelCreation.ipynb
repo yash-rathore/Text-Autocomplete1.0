{
  "nbformat": 4,
  "nbformat_minor": 0,
  "metadata": {
    "colab": {
      "name": "ModelCreation.ipynb",
      "provenance": [],
      "collapsed_sections": []
    },
    "kernelspec": {
      "name": "python3",
      "display_name": "Python 3"
    },
    "language_info": {
      "name": "python"
    },
    "accelerator": "GPU"
  },
  "cells": [
    {
      "cell_type": "code",
      "metadata": {
        "colab": {
          "base_uri": "https://localhost:8080/"
        },
        "id": "QNC8y_Q230N7",
        "outputId": "f53dd1a9-5651-4191-a71c-d2c5478a631b"
      },
      "source": [
        "from google.colab import drive\n",
        "drive.mount('/content/drive')"
      ],
      "execution_count": 1,
      "outputs": [
        {
          "output_type": "stream",
          "name": "stdout",
          "text": [
            "Mounted at /content/drive\n"
          ]
        }
      ]
    },
    {
      "cell_type": "code",
      "metadata": {
        "id": "FfEGzEFPhSru"
      },
      "source": [
        "import tensorflow as tf\n",
        "from tensorflow.keras.preprocessing.text import Tokenizer\n",
        "from tensorflow.keras.layers import Embedding, LSTM, Dense\n",
        "from tensorflow.keras.models import Sequential\n",
        "from tensorflow.keras.utils import to_categorical\n",
        "from tensorflow.keras.optimizers import Adam\n",
        "import pickle\n",
        "import numpy as np\n",
        "import os"
      ],
      "execution_count": 2,
      "outputs": []
    },
    {
      "cell_type": "code",
      "metadata": {
        "id": "VWLYcu8EhcLD",
        "colab": {
          "base_uri": "https://localhost:8080/"
        },
        "outputId": "fc4fe513-8d7f-43ec-877f-c06b77a45b89"
      },
      "source": [
        "file = open(\"/content/drive/MyDrive/ebook_corpus.txt\", \"r\", encoding = \"utf8\")\n",
        "lines = []\n",
        "\n",
        "for i in file:\n",
        "  lines.append(i)\n",
        "print(len(lines))"
      ],
      "execution_count": 3,
      "outputs": [
        {
          "output_type": "stream",
          "name": "stdout",
          "text": [
            "1946\n"
          ]
        }
      ]
    },
    {
      "cell_type": "code",
      "metadata": {
        "colab": {
          "base_uri": "https://localhost:8080/",
          "height": 70
        },
        "id": "00rMLIUW6Dm0",
        "outputId": "4e1100cd-c8a5-4f76-87c1-de673acfd369"
      },
      "source": [
        "data = \"\"\n",
        "\n",
        "for i in lines:\n",
        "    data = ' '. join(lines)\n",
        "    \n",
        "data = data.replace('\\n', '').replace('\\r', '').replace('\\ufeff', '')\n",
        "data[:360]"
      ],
      "execution_count": 4,
      "outputs": [
        {
          "output_type": "execute_result",
          "data": {
            "application/vnd.google.colaboratory.intrinsic+json": {
              "type": "string"
            },
            "text/plain": [
              "'One morning, when Gregor Samsa woke from troubled dreams, he found himself transformed in his bed into a horrible vermin.  He lay on his armour-like back, and if he lifted his head a little he could see his brown belly, slightly domed and divided by arches into stiff sections.  The bedding was hardly able to cover it and seemed ready to slide off any moment.'"
            ]
          },
          "metadata": {},
          "execution_count": 4
        }
      ]
    },
    {
      "cell_type": "code",
      "metadata": {
        "colab": {
          "base_uri": "https://localhost:8080/",
          "height": 88
        },
        "id": "F6YVF9WS-uKq",
        "outputId": "e05a3882-4130-43ad-f75a-5e0745b6f52e"
      },
      "source": [
        "import string\n",
        "\n",
        "translator = str.maketrans(string.punctuation, ' '*len(string.punctuation)) #map punctuation to space\n",
        "new_data = data.translate(translator)\n",
        "\n",
        "new_data[:500]"
      ],
      "execution_count": 5,
      "outputs": [
        {
          "output_type": "execute_result",
          "data": {
            "application/vnd.google.colaboratory.intrinsic+json": {
              "type": "string"
            },
            "text/plain": [
              "'One morning  when Gregor Samsa woke from troubled dreams  he found himself transformed in his bed into a horrible vermin   He lay on his armour like back  and if he lifted his head a little he could see his brown belly  slightly domed and divided by arches into stiff sections   The bedding was hardly able to cover it and seemed ready to slide off any moment   His many legs  pitifully thin compared with the size of the rest of him  waved about helplessly as he looked    What s happened to me   he'"
            ]
          },
          "metadata": {},
          "execution_count": 5
        }
      ]
    },
    {
      "cell_type": "code",
      "metadata": {
        "colab": {
          "base_uri": "https://localhost:8080/",
          "height": 88
        },
        "id": "2yS5qqJJ9X0n",
        "outputId": "c70c342f-3d1f-4fca-8566-d39e6158ecbb"
      },
      "source": [
        "z = []\n",
        "\n",
        "for i in data.split():\n",
        "    if i not in z:\n",
        "        z.append(i)\n",
        "        \n",
        "data = ' '.join(z)\n",
        "data[:500]"
      ],
      "execution_count": 6,
      "outputs": [
        {
          "output_type": "execute_result",
          "data": {
            "application/vnd.google.colaboratory.intrinsic+json": {
              "type": "string"
            },
            "text/plain": [
              "'One morning, when Gregor Samsa woke from troubled dreams, he found himself transformed in his bed into a horrible vermin. He lay on armour-like back, and if lifted head little could see brown belly, slightly domed divided by arches stiff sections. The bedding was hardly able to cover it seemed ready slide off any moment. His many legs, pitifully thin compared with the size of rest him, waved about helplessly as looked. \"What\\'s happened me?\" thought. It wasn\\'t dream. room, proper human room altho'"
            ]
          },
          "metadata": {},
          "execution_count": 6
        }
      ]
    },
    {
      "cell_type": "code",
      "metadata": {
        "colab": {
          "base_uri": "https://localhost:8080/"
        },
        "id": "mLDfsM_k9duK",
        "outputId": "9ed461e9-ee61-4ba7-bd20-aab2796aab47"
      },
      "source": [
        "tokenizer = Tokenizer()\n",
        "tokenizer.fit_on_texts([data])\n",
        "\n",
        "# saving the tokenizer for predict function.\n",
        "pickle.dump(tokenizer, open('tokenizer1.pkl', 'wb'))\n",
        "\n",
        "sequence_data = tokenizer.texts_to_sequences([data])[0]\n",
        "sequence_data[:10]"
      ],
      "execution_count": 7,
      "outputs": [
        {
          "output_type": "execute_result",
          "data": {
            "text/plain": [
              "[17, 53, 293, 2, 18, 729, 135, 730, 294, 8]"
            ]
          },
          "metadata": {},
          "execution_count": 7
        }
      ]
    },
    {
      "cell_type": "code",
      "metadata": {
        "colab": {
          "base_uri": "https://localhost:8080/"
        },
        "id": "rzwOCjBu9gVV",
        "outputId": "e9af5b0a-6041-47bc-8b90-110abf982129"
      },
      "source": [
        "vocab_size = len(tokenizer.word_index) + 1\n",
        "print(vocab_size)"
      ],
      "execution_count": 8,
      "outputs": [
        {
          "output_type": "stream",
          "name": "stdout",
          "text": [
            "2617\n"
          ]
        }
      ]
    },
    {
      "cell_type": "code",
      "metadata": {
        "colab": {
          "base_uri": "https://localhost:8080/"
        },
        "id": "HGIQ4LiV9sOk",
        "outputId": "72989be4-5f44-4e60-b777-c840adb982cf"
      },
      "source": [
        "sequences = []\n",
        "\n",
        "for i in range(1, len(sequence_data)):\n",
        "    words = sequence_data[i-1:i+1]\n",
        "    sequences.append(words)\n",
        "    \n",
        "print(\"The Length of sequences are: \", len(sequences))\n",
        "sequences = np.array(sequences)\n",
        "sequences[:10]"
      ],
      "execution_count": 9,
      "outputs": [
        {
          "output_type": "stream",
          "name": "stdout",
          "text": [
            "The Length of sequences are:  3889\n"
          ]
        },
        {
          "output_type": "execute_result",
          "data": {
            "text/plain": [
              "array([[ 17,  53],\n",
              "       [ 53, 293],\n",
              "       [293,   2],\n",
              "       [  2,  18],\n",
              "       [ 18, 729],\n",
              "       [729, 135],\n",
              "       [135, 730],\n",
              "       [730, 294],\n",
              "       [294,   8],\n",
              "       [  8, 731]])"
            ]
          },
          "metadata": {},
          "execution_count": 9
        }
      ]
    },
    {
      "cell_type": "code",
      "metadata": {
        "id": "BJdGJsk-9vWm"
      },
      "source": [
        "X = []\n",
        "y = []\n",
        "\n",
        "for i in sequences:\n",
        "    X.append(i[0])\n",
        "    y.append(i[1])\n",
        "    \n",
        "X = np.array(X)\n",
        "y = np.array(y)"
      ],
      "execution_count": 10,
      "outputs": []
    },
    {
      "cell_type": "code",
      "metadata": {
        "colab": {
          "base_uri": "https://localhost:8080/"
        },
        "id": "V3tJr7pO9xgB",
        "outputId": "04b42456-658e-4a96-c21d-b39aeee2fd07"
      },
      "source": [
        "print(\"The Data is: \", X[:5])\n",
        "print(\"The responses are: \", y[:5])"
      ],
      "execution_count": 11,
      "outputs": [
        {
          "output_type": "stream",
          "name": "stdout",
          "text": [
            "The Data is:  [ 17  53 293   2  18]\n",
            "The responses are:  [ 53 293   2  18 729]\n"
          ]
        }
      ]
    },
    {
      "cell_type": "code",
      "metadata": {
        "colab": {
          "base_uri": "https://localhost:8080/"
        },
        "id": "VscOZ6tv90QX",
        "outputId": "d34096a6-e9a9-4f25-bae2-3cd919bb7425"
      },
      "source": [
        "y = to_categorical(y, num_classes=vocab_size)\n",
        "y[:5]"
      ],
      "execution_count": 12,
      "outputs": [
        {
          "output_type": "execute_result",
          "data": {
            "text/plain": [
              "array([[0., 0., 0., ..., 0., 0., 0.],\n",
              "       [0., 0., 0., ..., 0., 0., 0.],\n",
              "       [0., 0., 1., ..., 0., 0., 0.],\n",
              "       [0., 0., 0., ..., 0., 0., 0.],\n",
              "       [0., 0., 0., ..., 0., 0., 0.]], dtype=float32)"
            ]
          },
          "metadata": {},
          "execution_count": 12
        }
      ]
    },
    {
      "cell_type": "code",
      "metadata": {
        "id": "_41el_cI920_"
      },
      "source": [
        "###MODEL CREATION , SAVING AND LOADING###"
      ],
      "execution_count": 13,
      "outputs": []
    },
    {
      "cell_type": "code",
      "metadata": {
        "id": "o6oTW7BS-A2T"
      },
      "source": [
        "model = Sequential()\n",
        "model.add(Embedding(vocab_size, 10, input_length=1))\n",
        "model.add(LSTM(1000, return_sequences=True))\n",
        "model.add(LSTM(1000))\n",
        "model.add(Dense(1000, activation=\"relu\"))\n",
        "model.add(Dense(vocab_size, activation=\"softmax\"))"
      ],
      "execution_count": 14,
      "outputs": []
    },
    {
      "cell_type": "code",
      "metadata": {
        "colab": {
          "base_uri": "https://localhost:8080/"
        },
        "id": "F-nEoHrlAT4W",
        "outputId": "5bff4a4c-a208-41c5-dd6d-1e8f3d51224e"
      },
      "source": [
        "model.summary()"
      ],
      "execution_count": 15,
      "outputs": [
        {
          "output_type": "stream",
          "name": "stdout",
          "text": [
            "Model: \"sequential\"\n",
            "_________________________________________________________________\n",
            " Layer (type)                Output Shape              Param #   \n",
            "=================================================================\n",
            " embedding (Embedding)       (None, 1, 10)             26170     \n",
            "                                                                 \n",
            " lstm (LSTM)                 (None, 1, 1000)           4044000   \n",
            "                                                                 \n",
            " lstm_1 (LSTM)               (None, 1000)              8004000   \n",
            "                                                                 \n",
            " dense (Dense)               (None, 1000)              1001000   \n",
            "                                                                 \n",
            " dense_1 (Dense)             (None, 2617)              2619617   \n",
            "                                                                 \n",
            "=================================================================\n",
            "Total params: 15,694,787\n",
            "Trainable params: 15,694,787\n",
            "Non-trainable params: 0\n",
            "_________________________________________________________________\n"
          ]
        }
      ]
    },
    {
      "cell_type": "code",
      "metadata": {
        "id": "cPEWVaKdBtQ-"
      },
      "source": [
        ""
      ],
      "execution_count": null,
      "outputs": []
    },
    {
      "cell_type": "code",
      "metadata": {
        "id": "6hyaWJpJAXnJ"
      },
      "source": [
        "from tensorflow.keras.callbacks import ModelCheckpoint\n",
        "from tensorflow.keras.callbacks import ReduceLROnPlateau\n",
        "from tensorflow.keras.callbacks import TensorBoard\n",
        "\n",
        "checkpoint = ModelCheckpoint(\"nextword1.h5\", monitor='loss', verbose=1,\n",
        "    save_best_only=True, mode='auto')\n",
        "\n",
        "reduce = ReduceLROnPlateau(monitor='loss', factor=0.2, patience=3, min_lr=0.0001, verbose = 1)\n",
        "\n",
        "logdir='logsnextword1'\n",
        "tensorboard_Visualization = TensorBoard(log_dir=logdir)"
      ],
      "execution_count": 16,
      "outputs": []
    },
    {
      "cell_type": "code",
      "metadata": {
        "colab": {
          "base_uri": "https://localhost:8080/"
        },
        "id": "1kDgA78mBCNn",
        "outputId": "29670355-5f30-4701-a5b0-77c888ac46c9"
      },
      "source": [
        "model.compile(loss=\"categorical_crossentropy\", optimizer=Adam(lr=0.001))"
      ],
      "execution_count": 17,
      "outputs": [
        {
          "output_type": "stream",
          "name": "stderr",
          "text": [
            "/usr/local/lib/python3.7/dist-packages/keras/optimizer_v2/adam.py:105: UserWarning: The `lr` argument is deprecated, use `learning_rate` instead.\n",
            "  super(Adam, self).__init__(name, **kwargs)\n"
          ]
        }
      ]
    },
    {
      "cell_type": "code",
      "metadata": {
        "colab": {
          "base_uri": "https://localhost:8080/"
        },
        "id": "R2uqzBQcBHa-",
        "outputId": "e35e1913-898a-40e9-9a64-64ab483e2a94"
      },
      "source": [
        "model.fit(X, y, epochs=150, batch_size=64, callbacks=[checkpoint, reduce, tensorboard_Visualization])"
      ],
      "execution_count": 18,
      "outputs": [
        {
          "output_type": "stream",
          "name": "stdout",
          "text": [
            "Epoch 1/150\n",
            "59/61 [============================>.] - ETA: 0s - loss: 7.8749\n",
            "Epoch 00001: loss improved from inf to 7.87512, saving model to nextword1.h5\n",
            "61/61 [==============================] - 9s 29ms/step - loss: 7.8751 - lr: 0.0010\n",
            "Epoch 2/150\n",
            "61/61 [==============================] - ETA: 0s - loss: 7.8618\n",
            "Epoch 00002: loss improved from 7.87512 to 7.86182, saving model to nextword1.h5\n",
            "61/61 [==============================] - 2s 35ms/step - loss: 7.8618 - lr: 0.0010\n",
            "Epoch 3/150\n",
            "61/61 [==============================] - ETA: 0s - loss: 7.8166\n",
            "Epoch 00003: loss improved from 7.86182 to 7.81663, saving model to nextword1.h5\n",
            "61/61 [==============================] - 2s 28ms/step - loss: 7.8166 - lr: 0.0010\n",
            "Epoch 4/150\n",
            "61/61 [==============================] - ETA: 0s - loss: 7.6469\n",
            "Epoch 00004: loss improved from 7.81663 to 7.64694, saving model to nextword1.h5\n",
            "61/61 [==============================] - 2s 29ms/step - loss: 7.6469 - lr: 0.0010\n",
            "Epoch 5/150\n",
            "61/61 [==============================] - ETA: 0s - loss: 7.4476\n",
            "Epoch 00005: loss improved from 7.64694 to 7.44757, saving model to nextword1.h5\n",
            "61/61 [==============================] - 2s 29ms/step - loss: 7.4476 - lr: 0.0010\n",
            "Epoch 6/150\n",
            "59/61 [============================>.] - ETA: 0s - loss: 7.2669\n",
            "Epoch 00006: loss improved from 7.44757 to 7.26909, saving model to nextword1.h5\n",
            "61/61 [==============================] - 2s 29ms/step - loss: 7.2691 - lr: 0.0010\n",
            "Epoch 7/150\n",
            "61/61 [==============================] - ETA: 0s - loss: 7.1538\n",
            "Epoch 00007: loss improved from 7.26909 to 7.15382, saving model to nextword1.h5\n",
            "61/61 [==============================] - 2s 28ms/step - loss: 7.1538 - lr: 0.0010\n",
            "Epoch 8/150\n",
            "61/61 [==============================] - ETA: 0s - loss: 7.0495\n",
            "Epoch 00008: loss improved from 7.15382 to 7.04948, saving model to nextword1.h5\n",
            "61/61 [==============================] - 2s 28ms/step - loss: 7.0495 - lr: 0.0010\n",
            "Epoch 9/150\n",
            "61/61 [==============================] - ETA: 0s - loss: 6.9226\n",
            "Epoch 00009: loss improved from 7.04948 to 6.92263, saving model to nextword1.h5\n",
            "61/61 [==============================] - 2s 29ms/step - loss: 6.9226 - lr: 0.0010\n",
            "Epoch 10/150\n",
            "61/61 [==============================] - ETA: 0s - loss: 6.7330\n",
            "Epoch 00010: loss improved from 6.92263 to 6.73304, saving model to nextword1.h5\n",
            "61/61 [==============================] - 2s 28ms/step - loss: 6.7330 - lr: 0.0010\n",
            "Epoch 11/150\n",
            "60/61 [============================>.] - ETA: 0s - loss: 6.4850\n",
            "Epoch 00011: loss improved from 6.73304 to 6.48764, saving model to nextword1.h5\n",
            "61/61 [==============================] - 2s 29ms/step - loss: 6.4876 - lr: 0.0010\n",
            "Epoch 12/150\n",
            "61/61 [==============================] - ETA: 0s - loss: 6.2197\n",
            "Epoch 00012: loss improved from 6.48764 to 6.21972, saving model to nextword1.h5\n",
            "61/61 [==============================] - 2s 29ms/step - loss: 6.2197 - lr: 0.0010\n",
            "Epoch 13/150\n",
            "61/61 [==============================] - ETA: 0s - loss: 6.0154\n",
            "Epoch 00013: loss improved from 6.21972 to 6.01539, saving model to nextword1.h5\n",
            "61/61 [==============================] - 2s 28ms/step - loss: 6.0154 - lr: 0.0010\n",
            "Epoch 14/150\n",
            "61/61 [==============================] - ETA: 0s - loss: 5.8238\n",
            "Epoch 00014: loss improved from 6.01539 to 5.82384, saving model to nextword1.h5\n",
            "61/61 [==============================] - 2s 29ms/step - loss: 5.8238 - lr: 0.0010\n",
            "Epoch 15/150\n",
            "61/61 [==============================] - ETA: 0s - loss: 5.6596\n",
            "Epoch 00015: loss improved from 5.82384 to 5.65958, saving model to nextword1.h5\n",
            "61/61 [==============================] - 2s 28ms/step - loss: 5.6596 - lr: 0.0010\n",
            "Epoch 16/150\n",
            "61/61 [==============================] - ETA: 0s - loss: 5.4812\n",
            "Epoch 00016: loss improved from 5.65958 to 5.48119, saving model to nextword1.h5\n",
            "61/61 [==============================] - 2s 28ms/step - loss: 5.4812 - lr: 0.0010\n",
            "Epoch 17/150\n",
            "61/61 [==============================] - ETA: 0s - loss: 5.3139\n",
            "Epoch 00017: loss improved from 5.48119 to 5.31392, saving model to nextword1.h5\n",
            "61/61 [==============================] - 2s 29ms/step - loss: 5.3139 - lr: 0.0010\n",
            "Epoch 18/150\n",
            "61/61 [==============================] - ETA: 0s - loss: 5.1721\n",
            "Epoch 00018: loss improved from 5.31392 to 5.17211, saving model to nextword1.h5\n",
            "61/61 [==============================] - 2s 29ms/step - loss: 5.1721 - lr: 0.0010\n",
            "Epoch 19/150\n",
            "60/61 [============================>.] - ETA: 0s - loss: 5.0500\n",
            "Epoch 00019: loss improved from 5.17211 to 5.05193, saving model to nextword1.h5\n",
            "61/61 [==============================] - 2s 29ms/step - loss: 5.0519 - lr: 0.0010\n",
            "Epoch 20/150\n",
            "61/61 [==============================] - ETA: 0s - loss: 4.9433\n",
            "Epoch 00020: loss improved from 5.05193 to 4.94332, saving model to nextword1.h5\n",
            "61/61 [==============================] - 2s 29ms/step - loss: 4.9433 - lr: 0.0010\n",
            "Epoch 21/150\n",
            "61/61 [==============================] - ETA: 0s - loss: 4.8073\n",
            "Epoch 00021: loss improved from 4.94332 to 4.80733, saving model to nextword1.h5\n",
            "61/61 [==============================] - 2s 29ms/step - loss: 4.8073 - lr: 0.0010\n",
            "Epoch 22/150\n",
            "61/61 [==============================] - ETA: 0s - loss: 4.7193\n",
            "Epoch 00022: loss improved from 4.80733 to 4.71932, saving model to nextword1.h5\n",
            "61/61 [==============================] - 2s 28ms/step - loss: 4.7193 - lr: 0.0010\n",
            "Epoch 23/150\n",
            "60/61 [============================>.] - ETA: 0s - loss: 4.5973\n",
            "Epoch 00023: loss improved from 4.71932 to 4.60080, saving model to nextword1.h5\n",
            "61/61 [==============================] - 2s 28ms/step - loss: 4.6008 - lr: 0.0010\n",
            "Epoch 24/150\n",
            "60/61 [============================>.] - ETA: 0s - loss: 4.5191\n",
            "Epoch 00024: loss improved from 4.60080 to 4.52135, saving model to nextword1.h5\n",
            "61/61 [==============================] - 2s 29ms/step - loss: 4.5213 - lr: 0.0010\n",
            "Epoch 25/150\n",
            "59/61 [============================>.] - ETA: 0s - loss: 4.4529\n",
            "Epoch 00025: loss improved from 4.52135 to 4.46270, saving model to nextword1.h5\n",
            "61/61 [==============================] - 2s 30ms/step - loss: 4.4627 - lr: 0.0010\n",
            "Epoch 26/150\n",
            "61/61 [==============================] - ETA: 0s - loss: 4.3856\n",
            "Epoch 00026: loss improved from 4.46270 to 4.38564, saving model to nextword1.h5\n",
            "61/61 [==============================] - 4s 58ms/step - loss: 4.3856 - lr: 0.0010\n",
            "Epoch 27/150\n",
            "59/61 [============================>.] - ETA: 0s - loss: 4.2998\n",
            "Epoch 00027: loss improved from 4.38564 to 4.30619, saving model to nextword1.h5\n",
            "61/61 [==============================] - 3s 56ms/step - loss: 4.3062 - lr: 0.0010\n",
            "Epoch 28/150\n",
            "60/61 [============================>.] - ETA: 0s - loss: 4.2547\n",
            "Epoch 00028: loss improved from 4.30619 to 4.25627, saving model to nextword1.h5\n",
            "61/61 [==============================] - 2s 35ms/step - loss: 4.2563 - lr: 0.0010\n",
            "Epoch 29/150\n",
            "60/61 [============================>.] - ETA: 0s - loss: 4.1433\n",
            "Epoch 00029: loss improved from 4.25627 to 4.14752, saving model to nextword1.h5\n",
            "61/61 [==============================] - 3s 48ms/step - loss: 4.1475 - lr: 0.0010\n",
            "Epoch 30/150\n",
            "61/61 [==============================] - ETA: 0s - loss: 4.0822\n",
            "Epoch 00030: loss improved from 4.14752 to 4.08215, saving model to nextword1.h5\n",
            "61/61 [==============================] - 3s 44ms/step - loss: 4.0822 - lr: 0.0010\n",
            "Epoch 31/150\n",
            "59/61 [============================>.] - ETA: 0s - loss: 4.0005\n",
            "Epoch 00031: loss improved from 4.08215 to 4.00960, saving model to nextword1.h5\n",
            "61/61 [==============================] - 2s 32ms/step - loss: 4.0096 - lr: 0.0010\n",
            "Epoch 32/150\n",
            "61/61 [==============================] - ETA: 0s - loss: 3.9494\n",
            "Epoch 00032: loss improved from 4.00960 to 3.94935, saving model to nextword1.h5\n",
            "61/61 [==============================] - 4s 60ms/step - loss: 3.9494 - lr: 0.0010\n",
            "Epoch 33/150\n",
            "59/61 [============================>.] - ETA: 0s - loss: 3.8623\n",
            "Epoch 00033: loss improved from 3.94935 to 3.87073, saving model to nextword1.h5\n",
            "61/61 [==============================] - 2s 30ms/step - loss: 3.8707 - lr: 0.0010\n",
            "Epoch 34/150\n",
            "60/61 [============================>.] - ETA: 0s - loss: 3.7836\n",
            "Epoch 00034: loss improved from 3.87073 to 3.78923, saving model to nextword1.h5\n",
            "61/61 [==============================] - 4s 66ms/step - loss: 3.7892 - lr: 0.0010\n",
            "Epoch 35/150\n",
            "61/61 [==============================] - ETA: 0s - loss: 3.6880\n",
            "Epoch 00035: loss improved from 3.78923 to 3.68802, saving model to nextword1.h5\n",
            "61/61 [==============================] - 2s 31ms/step - loss: 3.6880 - lr: 0.0010\n",
            "Epoch 36/150\n",
            "61/61 [==============================] - ETA: 0s - loss: 3.6165\n",
            "Epoch 00036: loss improved from 3.68802 to 3.61648, saving model to nextword1.h5\n",
            "61/61 [==============================] - 4s 58ms/step - loss: 3.6165 - lr: 0.0010\n",
            "Epoch 37/150\n",
            "59/61 [============================>.] - ETA: 0s - loss: 3.4962\n",
            "Epoch 00037: loss improved from 3.61648 to 3.50430, saving model to nextword1.h5\n",
            "61/61 [==============================] - 2s 30ms/step - loss: 3.5043 - lr: 0.0010\n",
            "Epoch 38/150\n",
            "61/61 [==============================] - ETA: 0s - loss: 3.3810\n",
            "Epoch 00038: loss improved from 3.50430 to 3.38095, saving model to nextword1.h5\n",
            "61/61 [==============================] - 4s 67ms/step - loss: 3.3810 - lr: 0.0010\n",
            "Epoch 39/150\n",
            "61/61 [==============================] - ETA: 0s - loss: 3.2880\n",
            "Epoch 00039: loss improved from 3.38095 to 3.28798, saving model to nextword1.h5\n",
            "61/61 [==============================] - 2s 29ms/step - loss: 3.2880 - lr: 0.0010\n",
            "Epoch 40/150\n",
            "60/61 [============================>.] - ETA: 0s - loss: 3.1828\n",
            "Epoch 00040: loss improved from 3.28798 to 3.19098, saving model to nextword1.h5\n",
            "61/61 [==============================] - 3s 57ms/step - loss: 3.1910 - lr: 0.0010\n",
            "Epoch 41/150\n",
            "59/61 [============================>.] - ETA: 0s - loss: 3.0687\n",
            "Epoch 00041: loss improved from 3.19098 to 3.07906, saving model to nextword1.h5\n",
            "61/61 [==============================] - 2s 33ms/step - loss: 3.0791 - lr: 0.0010\n",
            "Epoch 42/150\n",
            "60/61 [============================>.] - ETA: 0s - loss: 3.0049\n",
            "Epoch 00042: loss improved from 3.07906 to 3.00605, saving model to nextword1.h5\n",
            "61/61 [==============================] - 4s 60ms/step - loss: 3.0060 - lr: 0.0010\n",
            "Epoch 43/150\n",
            "60/61 [============================>.] - ETA: 0s - loss: 2.9251\n",
            "Epoch 00043: loss improved from 3.00605 to 2.92686, saving model to nextword1.h5\n",
            "61/61 [==============================] - 2s 31ms/step - loss: 2.9269 - lr: 0.0010\n",
            "Epoch 44/150\n",
            "61/61 [==============================] - ETA: 0s - loss: 2.8167\n",
            "Epoch 00044: loss improved from 2.92686 to 2.81669, saving model to nextword1.h5\n",
            "61/61 [==============================] - 4s 61ms/step - loss: 2.8167 - lr: 0.0010\n",
            "Epoch 45/150\n",
            "60/61 [============================>.] - ETA: 0s - loss: 2.7370\n",
            "Epoch 00045: loss improved from 2.81669 to 2.73845, saving model to nextword1.h5\n",
            "61/61 [==============================] - 2s 29ms/step - loss: 2.7384 - lr: 0.0010\n",
            "Epoch 46/150\n",
            "61/61 [==============================] - ETA: 0s - loss: 2.6881\n",
            "Epoch 00046: loss improved from 2.73845 to 2.68805, saving model to nextword1.h5\n",
            "61/61 [==============================] - 4s 61ms/step - loss: 2.6881 - lr: 0.0010\n",
            "Epoch 47/150\n",
            "60/61 [============================>.] - ETA: 0s - loss: 2.6182\n",
            "Epoch 00047: loss improved from 2.68805 to 2.62144, saving model to nextword1.h5\n",
            "61/61 [==============================] - 2s 41ms/step - loss: 2.6214 - lr: 0.0010\n",
            "Epoch 48/150\n",
            "61/61 [==============================] - ETA: 0s - loss: 2.5548\n",
            "Epoch 00048: loss improved from 2.62144 to 2.55481, saving model to nextword1.h5\n",
            "61/61 [==============================] - 3s 51ms/step - loss: 2.5548 - lr: 0.0010\n",
            "Epoch 49/150\n",
            "60/61 [============================>.] - ETA: 0s - loss: 2.4794\n",
            "Epoch 00049: loss improved from 2.55481 to 2.48459, saving model to nextword1.h5\n",
            "61/61 [==============================] - 2s 35ms/step - loss: 2.4846 - lr: 0.0010\n",
            "Epoch 50/150\n",
            "60/61 [============================>.] - ETA: 0s - loss: 2.4513\n",
            "Epoch 00050: loss improved from 2.48459 to 2.44990, saving model to nextword1.h5\n",
            "61/61 [==============================] - 3s 56ms/step - loss: 2.4499 - lr: 0.0010\n",
            "Epoch 51/150\n",
            "59/61 [============================>.] - ETA: 0s - loss: 2.3725\n",
            "Epoch 00051: loss improved from 2.44990 to 2.37849, saving model to nextword1.h5\n",
            "61/61 [==============================] - 3s 48ms/step - loss: 2.3785 - lr: 0.0010\n",
            "Epoch 52/150\n",
            "61/61 [==============================] - ETA: 0s - loss: 2.3589\n",
            "Epoch 00052: loss improved from 2.37849 to 2.35890, saving model to nextword1.h5\n",
            "61/61 [==============================] - 3s 45ms/step - loss: 2.3589 - lr: 0.0010\n",
            "Epoch 53/150\n",
            "60/61 [============================>.] - ETA: 0s - loss: 2.3287\n",
            "Epoch 00053: loss improved from 2.35890 to 2.33222, saving model to nextword1.h5\n",
            "61/61 [==============================] - 2s 32ms/step - loss: 2.3322 - lr: 0.0010\n",
            "Epoch 54/150\n",
            "61/61 [==============================] - ETA: 0s - loss: 2.2540\n",
            "Epoch 00054: loss improved from 2.33222 to 2.25401, saving model to nextword1.h5\n",
            "61/61 [==============================] - 5s 87ms/step - loss: 2.2540 - lr: 0.0010\n",
            "Epoch 55/150\n",
            "59/61 [============================>.] - ETA: 0s - loss: 2.2048\n",
            "Epoch 00055: loss improved from 2.25401 to 2.20891, saving model to nextword1.h5\n",
            "61/61 [==============================] - 2s 31ms/step - loss: 2.2089 - lr: 0.0010\n",
            "Epoch 56/150\n",
            "61/61 [==============================] - ETA: 0s - loss: 2.1678\n",
            "Epoch 00056: loss improved from 2.20891 to 2.16779, saving model to nextword1.h5\n",
            "61/61 [==============================] - 2s 30ms/step - loss: 2.1678 - lr: 0.0010\n",
            "Epoch 57/150\n",
            "60/61 [============================>.] - ETA: 0s - loss: 2.1321\n",
            "Epoch 00057: loss improved from 2.16779 to 2.13229, saving model to nextword1.h5\n",
            "61/61 [==============================] - 2s 35ms/step - loss: 2.1323 - lr: 0.0010\n",
            "Epoch 58/150\n",
            "60/61 [============================>.] - ETA: 0s - loss: 2.1036\n",
            "Epoch 00058: loss improved from 2.13229 to 2.10697, saving model to nextword1.h5\n",
            "61/61 [==============================] - 4s 58ms/step - loss: 2.1070 - lr: 0.0010\n",
            "Epoch 59/150\n",
            "59/61 [============================>.] - ETA: 0s - loss: 2.0699\n",
            "Epoch 00059: loss improved from 2.10697 to 2.07495, saving model to nextword1.h5\n",
            "61/61 [==============================] - 3s 45ms/step - loss: 2.0749 - lr: 0.0010\n",
            "Epoch 60/150\n",
            "61/61 [==============================] - ETA: 0s - loss: 2.0344\n",
            "Epoch 00060: loss improved from 2.07495 to 2.03438, saving model to nextword1.h5\n",
            "61/61 [==============================] - 5s 86ms/step - loss: 2.0344 - lr: 0.0010\n",
            "Epoch 61/150\n",
            "61/61 [==============================] - ETA: 0s - loss: 2.0213\n",
            "Epoch 00061: loss improved from 2.03438 to 2.02127, saving model to nextword1.h5\n",
            "61/61 [==============================] - 2s 28ms/step - loss: 2.0213 - lr: 0.0010\n",
            "Epoch 62/150\n",
            "59/61 [============================>.] - ETA: 0s - loss: 1.9725\n",
            "Epoch 00062: loss improved from 2.02127 to 1.98317, saving model to nextword1.h5\n",
            "61/61 [==============================] - 2s 28ms/step - loss: 1.9832 - lr: 0.0010\n",
            "Epoch 63/150\n",
            "60/61 [============================>.] - ETA: 0s - loss: 1.9246\n",
            "Epoch 00063: loss improved from 1.98317 to 1.92979, saving model to nextword1.h5\n",
            "61/61 [==============================] - 2s 31ms/step - loss: 1.9298 - lr: 0.0010\n",
            "Epoch 64/150\n",
            "60/61 [============================>.] - ETA: 0s - loss: 1.9015\n",
            "Epoch 00064: loss improved from 1.92979 to 1.90459, saving model to nextword1.h5\n",
            "61/61 [==============================] - 3s 56ms/step - loss: 1.9046 - lr: 0.0010\n",
            "Epoch 65/150\n",
            "60/61 [============================>.] - ETA: 0s - loss: 1.8993\n",
            "Epoch 00065: loss improved from 1.90459 to 1.90440, saving model to nextword1.h5\n",
            "61/61 [==============================] - 3s 43ms/step - loss: 1.9044 - lr: 0.0010\n",
            "Epoch 66/150\n",
            "60/61 [============================>.] - ETA: 0s - loss: 1.8859\n",
            "Epoch 00066: loss improved from 1.90440 to 1.89076, saving model to nextword1.h5\n",
            "61/61 [==============================] - 3s 51ms/step - loss: 1.8908 - lr: 0.0010\n",
            "Epoch 67/150\n",
            "60/61 [============================>.] - ETA: 0s - loss: 1.8565\n",
            "Epoch 00067: loss improved from 1.89076 to 1.85803, saving model to nextword1.h5\n",
            "61/61 [==============================] - 2s 34ms/step - loss: 1.8580 - lr: 0.0010\n",
            "Epoch 68/150\n",
            "61/61 [==============================] - ETA: 0s - loss: 1.8568\n",
            "Epoch 00068: loss improved from 1.85803 to 1.85676, saving model to nextword1.h5\n",
            "61/61 [==============================] - 4s 58ms/step - loss: 1.8568 - lr: 0.0010\n",
            "Epoch 69/150\n",
            "61/61 [==============================] - ETA: 0s - loss: 1.8366\n",
            "Epoch 00069: loss improved from 1.85676 to 1.83660, saving model to nextword1.h5\n",
            "61/61 [==============================] - 2s 37ms/step - loss: 1.8366 - lr: 0.0010\n",
            "Epoch 70/150\n",
            "60/61 [============================>.] - ETA: 0s - loss: 1.7780\n",
            "Epoch 00070: loss improved from 1.83660 to 1.78512, saving model to nextword1.h5\n",
            "61/61 [==============================] - 3s 52ms/step - loss: 1.7851 - lr: 0.0010\n",
            "Epoch 71/150\n",
            "61/61 [==============================] - ETA: 0s - loss: 1.7763\n",
            "Epoch 00071: loss improved from 1.78512 to 1.77631, saving model to nextword1.h5\n",
            "61/61 [==============================] - 2s 37ms/step - loss: 1.7763 - lr: 0.0010\n",
            "Epoch 72/150\n",
            "61/61 [==============================] - ETA: 0s - loss: 1.7384\n",
            "Epoch 00072: loss improved from 1.77631 to 1.73844, saving model to nextword1.h5\n",
            "61/61 [==============================] - 3s 54ms/step - loss: 1.7384 - lr: 0.0010\n",
            "Epoch 73/150\n",
            "60/61 [============================>.] - ETA: 0s - loss: 1.7183\n",
            "Epoch 00073: loss improved from 1.73844 to 1.72163, saving model to nextword1.h5\n",
            "61/61 [==============================] - 3s 47ms/step - loss: 1.7216 - lr: 0.0010\n",
            "Epoch 74/150\n",
            "60/61 [============================>.] - ETA: 0s - loss: 1.7066\n",
            "Epoch 00074: loss improved from 1.72163 to 1.71220, saving model to nextword1.h5\n",
            "61/61 [==============================] - 3s 45ms/step - loss: 1.7122 - lr: 0.0010\n",
            "Epoch 75/150\n",
            "60/61 [============================>.] - ETA: 0s - loss: 1.6759\n",
            "Epoch 00075: loss improved from 1.71220 to 1.67933, saving model to nextword1.h5\n",
            "61/61 [==============================] - 3s 48ms/step - loss: 1.6793 - lr: 0.0010\n",
            "Epoch 76/150\n",
            "60/61 [============================>.] - ETA: 0s - loss: 1.6718\n",
            "Epoch 00076: loss improved from 1.67933 to 1.67250, saving model to nextword1.h5\n",
            "61/61 [==============================] - 3s 45ms/step - loss: 1.6725 - lr: 0.0010\n",
            "Epoch 77/150\n",
            "61/61 [==============================] - ETA: 0s - loss: 1.6598\n",
            "Epoch 00077: loss improved from 1.67250 to 1.65976, saving model to nextword1.h5\n",
            "61/61 [==============================] - 3s 45ms/step - loss: 1.6598 - lr: 0.0010\n",
            "Epoch 78/150\n",
            "60/61 [============================>.] - ETA: 0s - loss: 1.6376\n",
            "Epoch 00078: loss improved from 1.65976 to 1.64021, saving model to nextword1.h5\n",
            "61/61 [==============================] - 3s 45ms/step - loss: 1.6402 - lr: 0.0010\n",
            "Epoch 79/150\n",
            "59/61 [============================>.] - ETA: 0s - loss: 1.5965\n",
            "Epoch 00079: loss improved from 1.64021 to 1.60223, saving model to nextword1.h5\n",
            "61/61 [==============================] - 3s 46ms/step - loss: 1.6022 - lr: 0.0010\n",
            "Epoch 80/150\n",
            "61/61 [==============================] - ETA: 0s - loss: 1.5798\n",
            "Epoch 00080: loss improved from 1.60223 to 1.57981, saving model to nextword1.h5\n",
            "61/61 [==============================] - 3s 46ms/step - loss: 1.5798 - lr: 0.0010\n",
            "Epoch 81/150\n",
            "59/61 [============================>.] - ETA: 0s - loss: 1.5679\n",
            "Epoch 00081: loss did not improve from 1.57981\n",
            "61/61 [==============================] - 1s 22ms/step - loss: 1.5820 - lr: 0.0010\n",
            "Epoch 82/150\n",
            "60/61 [============================>.] - ETA: 0s - loss: 1.5746\n",
            "Epoch 00082: loss improved from 1.57981 to 1.57666, saving model to nextword1.h5\n",
            "61/61 [==============================] - 2s 30ms/step - loss: 1.5767 - lr: 0.0010\n",
            "Epoch 83/150\n",
            "60/61 [============================>.] - ETA: 0s - loss: 1.5646\n",
            "Epoch 00083: loss improved from 1.57666 to 1.56373, saving model to nextword1.h5\n",
            "61/61 [==============================] - 2s 39ms/step - loss: 1.5637 - lr: 0.0010\n",
            "Epoch 84/150\n",
            "59/61 [============================>.] - ETA: 0s - loss: 1.5533\n",
            "Epoch 00084: loss improved from 1.56373 to 1.55864, saving model to nextword1.h5\n",
            "61/61 [==============================] - 3s 51ms/step - loss: 1.5586 - lr: 0.0010\n",
            "Epoch 85/150\n",
            "61/61 [==============================] - ETA: 0s - loss: 1.5339\n",
            "Epoch 00085: loss improved from 1.55864 to 1.53385, saving model to nextword1.h5\n",
            "61/61 [==============================] - 3s 42ms/step - loss: 1.5339 - lr: 0.0010\n",
            "Epoch 86/150\n",
            "61/61 [==============================] - ETA: 0s - loss: 1.5244\n",
            "Epoch 00086: loss improved from 1.53385 to 1.52436, saving model to nextword1.h5\n",
            "61/61 [==============================] - 3s 45ms/step - loss: 1.5244 - lr: 0.0010\n",
            "Epoch 87/150\n",
            "60/61 [============================>.] - ETA: 0s - loss: 1.5166\n",
            "Epoch 00087: loss improved from 1.52436 to 1.51497, saving model to nextword1.h5\n",
            "61/61 [==============================] - 3s 46ms/step - loss: 1.5150 - lr: 0.0010\n",
            "Epoch 88/150\n",
            "60/61 [============================>.] - ETA: 0s - loss: 1.5169\n",
            "Epoch 00088: loss did not improve from 1.51497\n",
            "61/61 [==============================] - 1s 22ms/step - loss: 1.5188 - lr: 0.0010\n",
            "Epoch 89/150\n",
            "59/61 [============================>.] - ETA: 0s - loss: 1.5003\n",
            "Epoch 00089: loss improved from 1.51497 to 1.50580, saving model to nextword1.h5\n",
            "61/61 [==============================] - 2s 29ms/step - loss: 1.5058 - lr: 0.0010\n",
            "Epoch 90/150\n",
            "59/61 [============================>.] - ETA: 0s - loss: 1.4597\n",
            "Epoch 00090: loss improved from 1.50580 to 1.47008, saving model to nextword1.h5\n",
            "61/61 [==============================] - 2s 41ms/step - loss: 1.4701 - lr: 0.0010\n",
            "Epoch 91/150\n",
            "59/61 [============================>.] - ETA: 0s - loss: 1.4832\n",
            "Epoch 00091: loss did not improve from 1.47008\n",
            "61/61 [==============================] - 1s 22ms/step - loss: 1.4885 - lr: 0.0010\n",
            "Epoch 92/150\n",
            "60/61 [============================>.] - ETA: 0s - loss: 1.4576\n",
            "Epoch 00092: loss improved from 1.47008 to 1.45930, saving model to nextword1.h5\n",
            "61/61 [==============================] - 2s 29ms/step - loss: 1.4593 - lr: 0.0010\n",
            "Epoch 93/150\n",
            "61/61 [==============================] - ETA: 0s - loss: 1.4600\n",
            "Epoch 00093: loss did not improve from 1.45930\n",
            "61/61 [==============================] - 1s 23ms/step - loss: 1.4600 - lr: 0.0010\n",
            "Epoch 94/150\n",
            "60/61 [============================>.] - ETA: 0s - loss: 1.4402\n",
            "Epoch 00094: loss improved from 1.45930 to 1.44290, saving model to nextword1.h5\n",
            "61/61 [==============================] - 2s 29ms/step - loss: 1.4429 - lr: 0.0010\n",
            "Epoch 95/150\n",
            "60/61 [============================>.] - ETA: 0s - loss: 1.4481\n",
            "Epoch 00095: loss did not improve from 1.44290\n",
            "61/61 [==============================] - 1s 22ms/step - loss: 1.4515 - lr: 0.0010\n",
            "Epoch 96/150\n",
            "60/61 [============================>.] - ETA: 0s - loss: 1.4065\n",
            "Epoch 00096: loss improved from 1.44290 to 1.41015, saving model to nextword1.h5\n",
            "61/61 [==============================] - 2s 29ms/step - loss: 1.4101 - lr: 0.0010\n",
            "Epoch 97/150\n",
            "60/61 [============================>.] - ETA: 0s - loss: 1.3758\n",
            "Epoch 00097: loss improved from 1.41015 to 1.37975, saving model to nextword1.h5\n",
            "61/61 [==============================] - 2s 30ms/step - loss: 1.3797 - lr: 0.0010\n",
            "Epoch 98/150\n",
            "60/61 [============================>.] - ETA: 0s - loss: 1.3880\n",
            "Epoch 00098: loss did not improve from 1.37975\n",
            "61/61 [==============================] - 1s 22ms/step - loss: 1.3898 - lr: 0.0010\n",
            "Epoch 99/150\n",
            "60/61 [============================>.] - ETA: 0s - loss: 1.3636\n",
            "Epoch 00099: loss improved from 1.37975 to 1.36831, saving model to nextword1.h5\n",
            "61/61 [==============================] - 2s 31ms/step - loss: 1.3683 - lr: 0.0010\n",
            "Epoch 100/150\n",
            "60/61 [============================>.] - ETA: 0s - loss: 1.3191\n",
            "Epoch 00100: loss improved from 1.36831 to 1.32119, saving model to nextword1.h5\n",
            "61/61 [==============================] - 2s 37ms/step - loss: 1.3212 - lr: 0.0010\n",
            "Epoch 101/150\n",
            "61/61 [==============================] - ETA: 0s - loss: 1.3014\n",
            "Epoch 00101: loss improved from 1.32119 to 1.30143, saving model to nextword1.h5\n",
            "61/61 [==============================] - 2s 32ms/step - loss: 1.3014 - lr: 0.0010\n",
            "Epoch 102/150\n",
            "60/61 [============================>.] - ETA: 0s - loss: 1.2801\n",
            "Epoch 00102: loss improved from 1.30143 to 1.28695, saving model to nextword1.h5\n",
            "61/61 [==============================] - 6s 100ms/step - loss: 1.2869 - lr: 0.0010\n",
            "Epoch 103/150\n",
            "60/61 [============================>.] - ETA: 0s - loss: 1.2795\n",
            "Epoch 00103: loss improved from 1.28695 to 1.28251, saving model to nextword1.h5\n",
            "61/61 [==============================] - 2s 30ms/step - loss: 1.2825 - lr: 0.0010\n",
            "Epoch 104/150\n",
            "60/61 [============================>.] - ETA: 0s - loss: 1.2555\n",
            "Epoch 00104: loss improved from 1.28251 to 1.25636, saving model to nextword1.h5\n",
            "61/61 [==============================] - 2s 29ms/step - loss: 1.2564 - lr: 0.0010\n",
            "Epoch 105/150\n",
            "60/61 [============================>.] - ETA: 0s - loss: 1.2649\n",
            "Epoch 00105: loss did not improve from 1.25636\n",
            "61/61 [==============================] - 1s 22ms/step - loss: 1.2649 - lr: 0.0010\n",
            "Epoch 106/150\n",
            "60/61 [============================>.] - ETA: 0s - loss: 1.2654\n",
            "Epoch 00106: loss did not improve from 1.25636\n",
            "61/61 [==============================] - 1s 22ms/step - loss: 1.2714 - lr: 0.0010\n",
            "Epoch 107/150\n",
            "59/61 [============================>.] - ETA: 0s - loss: 1.2627\n",
            "Epoch 00107: loss did not improve from 1.25636\n",
            "\n",
            "Epoch 00107: ReduceLROnPlateau reducing learning rate to 0.00020000000949949026.\n",
            "61/61 [==============================] - 1s 22ms/step - loss: 1.2728 - lr: 0.0010\n",
            "Epoch 108/150\n",
            "59/61 [============================>.] - ETA: 0s - loss: 0.9545\n",
            "Epoch 00108: loss improved from 1.25636 to 0.95917, saving model to nextword1.h5\n",
            "61/61 [==============================] - 2s 29ms/step - loss: 0.9592 - lr: 2.0000e-04\n",
            "Epoch 109/150\n",
            "60/61 [============================>.] - ETA: 0s - loss: 0.8529\n",
            "Epoch 00109: loss improved from 0.95917 to 0.85305, saving model to nextword1.h5\n",
            "61/61 [==============================] - 2s 29ms/step - loss: 0.8530 - lr: 2.0000e-04\n",
            "Epoch 110/150\n",
            "61/61 [==============================] - ETA: 0s - loss: 0.8144\n",
            "Epoch 00110: loss improved from 0.85305 to 0.81445, saving model to nextword1.h5\n",
            "61/61 [==============================] - 2s 29ms/step - loss: 0.8144 - lr: 2.0000e-04\n",
            "Epoch 111/150\n",
            "60/61 [============================>.] - ETA: 0s - loss: 0.7939\n",
            "Epoch 00111: loss improved from 0.81445 to 0.79441, saving model to nextword1.h5\n",
            "61/61 [==============================] - 2s 30ms/step - loss: 0.7944 - lr: 2.0000e-04\n",
            "Epoch 112/150\n",
            "60/61 [============================>.] - ETA: 0s - loss: 0.7808\n",
            "Epoch 00112: loss improved from 0.79441 to 0.78087, saving model to nextword1.h5\n",
            "61/61 [==============================] - 2s 29ms/step - loss: 0.7809 - lr: 2.0000e-04\n",
            "Epoch 113/150\n",
            "60/61 [============================>.] - ETA: 0s - loss: 0.7724\n",
            "Epoch 00113: loss improved from 0.78087 to 0.77285, saving model to nextword1.h5\n",
            "61/61 [==============================] - 3s 54ms/step - loss: 0.7728 - lr: 2.0000e-04\n",
            "Epoch 114/150\n",
            "60/61 [============================>.] - ETA: 0s - loss: 0.7662\n",
            "Epoch 00114: loss improved from 0.77285 to 0.76717, saving model to nextword1.h5\n",
            "61/61 [==============================] - 2s 37ms/step - loss: 0.7672 - lr: 2.0000e-04\n",
            "Epoch 115/150\n",
            "60/61 [============================>.] - ETA: 0s - loss: 0.7607\n",
            "Epoch 00115: loss improved from 0.76717 to 0.76058, saving model to nextword1.h5\n",
            "61/61 [==============================] - 3s 56ms/step - loss: 0.7606 - lr: 2.0000e-04\n",
            "Epoch 116/150\n",
            "59/61 [============================>.] - ETA: 0s - loss: 0.7523\n",
            "Epoch 00116: loss improved from 0.76058 to 0.75461, saving model to nextword1.h5\n",
            "61/61 [==============================] - 2s 32ms/step - loss: 0.7546 - lr: 2.0000e-04\n",
            "Epoch 117/150\n",
            "59/61 [============================>.] - ETA: 0s - loss: 0.7526\n",
            "Epoch 00117: loss improved from 0.75461 to 0.75404, saving model to nextword1.h5\n",
            "61/61 [==============================] - 4s 58ms/step - loss: 0.7540 - lr: 2.0000e-04\n",
            "Epoch 118/150\n",
            "61/61 [==============================] - ETA: 0s - loss: 0.7490\n",
            "Epoch 00118: loss improved from 0.75404 to 0.74899, saving model to nextword1.h5\n",
            "61/61 [==============================] - 3s 41ms/step - loss: 0.7490 - lr: 2.0000e-04\n",
            "Epoch 119/150\n",
            "59/61 [============================>.] - ETA: 0s - loss: 0.7480\n",
            "Epoch 00119: loss improved from 0.74899 to 0.74731, saving model to nextword1.h5\n",
            "61/61 [==============================] - 3s 50ms/step - loss: 0.7473 - lr: 2.0000e-04\n",
            "Epoch 120/150\n",
            "59/61 [============================>.] - ETA: 0s - loss: 0.7435\n",
            "Epoch 00120: loss improved from 0.74731 to 0.74486, saving model to nextword1.h5\n",
            "61/61 [==============================] - 2s 30ms/step - loss: 0.7449 - lr: 2.0000e-04\n",
            "Epoch 121/150\n",
            "60/61 [============================>.] - ETA: 0s - loss: 0.7419\n",
            "Epoch 00121: loss improved from 0.74486 to 0.74206, saving model to nextword1.h5\n",
            "61/61 [==============================] - 4s 61ms/step - loss: 0.7421 - lr: 2.0000e-04\n",
            "Epoch 122/150\n",
            "60/61 [============================>.] - ETA: 0s - loss: 0.7411\n",
            "Epoch 00122: loss improved from 0.74206 to 0.74192, saving model to nextword1.h5\n",
            "61/61 [==============================] - 3s 47ms/step - loss: 0.7419 - lr: 2.0000e-04\n",
            "Epoch 123/150\n",
            "61/61 [==============================] - ETA: 0s - loss: 0.7427\n",
            "Epoch 00123: loss did not improve from 0.74192\n",
            "61/61 [==============================] - 1s 22ms/step - loss: 0.7427 - lr: 2.0000e-04\n",
            "Epoch 124/150\n",
            "59/61 [============================>.] - ETA: 0s - loss: 0.7363\n",
            "Epoch 00124: loss improved from 0.74192 to 0.73921, saving model to nextword1.h5\n",
            "61/61 [==============================] - 2s 31ms/step - loss: 0.7392 - lr: 2.0000e-04\n",
            "Epoch 125/150\n",
            "60/61 [============================>.] - ETA: 0s - loss: 0.7343\n",
            "Epoch 00125: loss improved from 0.73921 to 0.73635, saving model to nextword1.h5\n",
            "61/61 [==============================] - 2s 35ms/step - loss: 0.7363 - lr: 2.0000e-04\n",
            "Epoch 126/150\n",
            "60/61 [============================>.] - ETA: 0s - loss: 0.7357\n",
            "Epoch 00126: loss improved from 0.73635 to 0.73607, saving model to nextword1.h5\n",
            "61/61 [==============================] - 3s 48ms/step - loss: 0.7361 - lr: 2.0000e-04\n",
            "Epoch 127/150\n",
            "60/61 [============================>.] - ETA: 0s - loss: 0.7328\n",
            "Epoch 00127: loss improved from 0.73607 to 0.73304, saving model to nextword1.h5\n",
            "61/61 [==============================] - 4s 58ms/step - loss: 0.7330 - lr: 2.0000e-04\n",
            "Epoch 128/150\n",
            "60/61 [============================>.] - ETA: 0s - loss: 0.7303\n",
            "Epoch 00128: loss did not improve from 0.73304\n",
            "61/61 [==============================] - 1s 23ms/step - loss: 0.7337 - lr: 2.0000e-04\n",
            "Epoch 129/150\n",
            "59/61 [============================>.] - ETA: 0s - loss: 0.7312\n",
            "Epoch 00129: loss did not improve from 0.73304\n",
            "61/61 [==============================] - 1s 23ms/step - loss: 0.7341 - lr: 2.0000e-04\n",
            "Epoch 130/150\n",
            "61/61 [==============================] - ETA: 0s - loss: 0.7301\n",
            "Epoch 00130: loss improved from 0.73304 to 0.73009, saving model to nextword1.h5\n",
            "61/61 [==============================] - 2s 29ms/step - loss: 0.7301 - lr: 2.0000e-04\n",
            "Epoch 131/150\n",
            "60/61 [============================>.] - ETA: 0s - loss: 0.7279\n",
            "Epoch 00131: loss improved from 0.73009 to 0.72963, saving model to nextword1.h5\n",
            "61/61 [==============================] - 2s 30ms/step - loss: 0.7296 - lr: 2.0000e-04\n",
            "Epoch 132/150\n",
            "61/61 [==============================] - ETA: 0s - loss: 0.7283\n",
            "Epoch 00132: loss improved from 0.72963 to 0.72833, saving model to nextword1.h5\n",
            "61/61 [==============================] - 2s 30ms/step - loss: 0.7283 - lr: 2.0000e-04\n",
            "Epoch 133/150\n",
            "60/61 [============================>.] - ETA: 0s - loss: 0.7288\n",
            "Epoch 00133: loss did not improve from 0.72833\n",
            "61/61 [==============================] - 1s 22ms/step - loss: 0.7290 - lr: 2.0000e-04\n",
            "Epoch 134/150\n",
            "61/61 [==============================] - ETA: 0s - loss: 0.7286\n",
            "Epoch 00134: loss did not improve from 0.72833\n",
            "61/61 [==============================] - 1s 23ms/step - loss: 0.7286 - lr: 2.0000e-04\n",
            "Epoch 135/150\n",
            "60/61 [============================>.] - ETA: 0s - loss: 0.7244\n",
            "Epoch 00135: loss improved from 0.72833 to 0.72589, saving model to nextword1.h5\n",
            "61/61 [==============================] - 2s 30ms/step - loss: 0.7259 - lr: 2.0000e-04\n",
            "Epoch 136/150\n",
            "60/61 [============================>.] - ETA: 0s - loss: 0.7243\n",
            "Epoch 00136: loss improved from 0.72589 to 0.72445, saving model to nextword1.h5\n",
            "61/61 [==============================] - 3s 46ms/step - loss: 0.7244 - lr: 2.0000e-04\n",
            "Epoch 137/150\n",
            "61/61 [==============================] - ETA: 0s - loss: 0.7227\n",
            "Epoch 00137: loss improved from 0.72445 to 0.72265, saving model to nextword1.h5\n",
            "61/61 [==============================] - 2s 30ms/step - loss: 0.7227 - lr: 2.0000e-04\n",
            "Epoch 138/150\n",
            "59/61 [============================>.] - ETA: 0s - loss: 0.7190\n",
            "Epoch 00138: loss did not improve from 0.72265\n",
            "61/61 [==============================] - 1s 22ms/step - loss: 0.7240 - lr: 2.0000e-04\n",
            "Epoch 139/150\n",
            "61/61 [==============================] - ETA: 0s - loss: 0.7214\n",
            "Epoch 00139: loss improved from 0.72265 to 0.72136, saving model to nextword1.h5\n",
            "61/61 [==============================] - 2s 30ms/step - loss: 0.7214 - lr: 2.0000e-04\n",
            "Epoch 140/150\n",
            "60/61 [============================>.] - ETA: 0s - loss: 0.7185\n",
            "Epoch 00140: loss improved from 0.72136 to 0.71997, saving model to nextword1.h5\n",
            "61/61 [==============================] - 2s 30ms/step - loss: 0.7200 - lr: 2.0000e-04\n",
            "Epoch 141/150\n",
            "60/61 [============================>.] - ETA: 0s - loss: 0.7210\n",
            "Epoch 00141: loss did not improve from 0.71997\n",
            "61/61 [==============================] - 1s 22ms/step - loss: 0.7201 - lr: 2.0000e-04\n",
            "Epoch 142/150\n",
            "60/61 [============================>.] - ETA: 0s - loss: 0.7208\n",
            "Epoch 00142: loss did not improve from 0.71997\n",
            "61/61 [==============================] - 1s 22ms/step - loss: 0.7206 - lr: 2.0000e-04\n",
            "Epoch 143/150\n",
            "59/61 [============================>.] - ETA: 0s - loss: 0.7149\n",
            "Epoch 00143: loss improved from 0.71997 to 0.71697, saving model to nextword1.h5\n",
            "61/61 [==============================] - 2s 30ms/step - loss: 0.7170 - lr: 2.0000e-04\n",
            "Epoch 144/150\n",
            "59/61 [============================>.] - ETA: 0s - loss: 0.7140\n",
            "Epoch 00144: loss improved from 0.71697 to 0.71666, saving model to nextword1.h5\n",
            "61/61 [==============================] - 2s 29ms/step - loss: 0.7167 - lr: 2.0000e-04\n",
            "Epoch 145/150\n",
            "60/61 [============================>.] - ETA: 0s - loss: 0.7181\n",
            "Epoch 00145: loss did not improve from 0.71666\n",
            "61/61 [==============================] - 1s 22ms/step - loss: 0.7186 - lr: 2.0000e-04\n",
            "Epoch 146/150\n",
            "60/61 [============================>.] - ETA: 0s - loss: 0.7129\n",
            "Epoch 00146: loss improved from 0.71666 to 0.71531, saving model to nextword1.h5\n",
            "61/61 [==============================] - 2s 30ms/step - loss: 0.7153 - lr: 2.0000e-04\n",
            "Epoch 147/150\n",
            "59/61 [============================>.] - ETA: 0s - loss: 0.7104\n",
            "Epoch 00147: loss did not improve from 0.71531\n",
            "61/61 [==============================] - 1s 22ms/step - loss: 0.7159 - lr: 2.0000e-04\n",
            "Epoch 148/150\n",
            "61/61 [==============================] - ETA: 0s - loss: 0.7130\n",
            "Epoch 00148: loss improved from 0.71531 to 0.71297, saving model to nextword1.h5\n",
            "61/61 [==============================] - 2s 31ms/step - loss: 0.7130 - lr: 2.0000e-04\n",
            "Epoch 149/150\n",
            "60/61 [============================>.] - ETA: 0s - loss: 0.7174\n",
            "Epoch 00149: loss did not improve from 0.71297\n",
            "61/61 [==============================] - 1s 22ms/step - loss: 0.7159 - lr: 2.0000e-04\n",
            "Epoch 150/150\n",
            "61/61 [==============================] - ETA: 0s - loss: 0.7139\n",
            "Epoch 00150: loss did not improve from 0.71297\n",
            "61/61 [==============================] - 1s 22ms/step - loss: 0.7139 - lr: 2.0000e-04\n"
          ]
        },
        {
          "output_type": "execute_result",
          "data": {
            "text/plain": [
              "<keras.callbacks.History at 0x7f5d1efd3c90>"
            ]
          },
          "metadata": {},
          "execution_count": 18
        }
      ]
    },
    {
      "cell_type": "code",
      "metadata": {
        "id": "Phb_x7PbBSst"
      },
      "source": [
        ""
      ],
      "execution_count": null,
      "outputs": []
    }
  ]
}